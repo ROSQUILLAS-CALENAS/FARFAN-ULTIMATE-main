{
 "cells": [
  {
   "cell_type": "markdown",
   "metadata": {},
   "source": [
    "# Standards Alignment Demo\n",
    "\n",
    "This notebook demonstrates the standards alignment system using Gromov-Wasserstein optimal transport.\n",
    "\n",
    "## Theory Background\n",
    "\n",
    "The system uses:\n",
    "- **JMLR 2024**: Entropic GW stability under regularization λ\n",
    "- **JCGS 2023**: GW consistency guarantees under sampling\n",
    "\n",
    "Key properties:\n",
    "- Stability bound ε ≤ C √(λ log(max(n₁, n₂)))\n",
    "- Consistency under document sampling\n",
    "- Fused costs combining text + structure"
   ]
  },
  {
   "cell_type": "code",
   "execution_count": null,
   "metadata": {},
   "outputs": [],
   "source": [
    "import sys\n",
    "sys.path.append('..')\n",
    "\n",
    "import numpy as np\n",
    "import matplotlib.pyplot as plt\n",
    "from standards_alignment import load_standards, gw_align, sparse_align\n",
    "from standards_alignment.graph_ops import DocumentGraph\n",
    "\n",
    "# Load standards\n",
    "standards = load_standards()\n",
    "std_graph = standards['graph']\n",
    "print(f\"Loaded standards version {standards['version']} with checksum {standards['checksum'][:8]}...\")"
   ]
  },
  {
   "cell_type": "markdown",
   "metadata": {},
   "source": [
    "## Create Sample Document"
   ]
  },
  {
   "cell_type": "code",
   "execution_count": null,
   "metadata": {},
   "outputs": [],
   "source": [
    "# Create document graph\n",
    "doc_graph = DocumentGraph()\n",
    "\n",
    "# Add security section\n",
    "doc_graph.add_section(\n",
    "    \"sec_security\", \n",
    "    \"Security Requirements\",\n",
    "    \"This section defines security and access control requirements.\"\n",
    ")\n",
    "\n",
    "doc_graph.add_paragraph(\n",
    "    \"sec_security\",\n",
    "    \"para_auth\", \n",
    "    \"The system must implement robust user authentication using secure credentials and password policies.\"\n",
    ")\n",
    "\n",
    "doc_graph.add_paragraph(\n",
    "    \"sec_security\",\n",
    "    \"para_roles\",\n",
    "    \"User roles and permissions must be clearly defined with appropriate privilege levels for different user types.\"\n",
    ")\n",
    "\n",
    "doc_graph.add_table(\n",
    "    \"sec_security\",\n",
    "    \"table_roles\",\n",
    "    {\n",
    "        \"headers\": True,\n",
    "        \"rows\": [\n",
    "            [\"Role\", \"Permissions\", \"Access Level\"],\n",
    "            [\"Admin\", \"Full System\", \"High\"],\n",
    "            [\"User\", \"Read/Write\", \"Medium\"],\n",
    "            [\"Guest\", \"Read Only\", \"Low\"]\n",
    "        ]\n",
    "    }\n",
    ")\n",
    "\n",
    "# Add performance section\n",
    "doc_graph.add_section(\n",
    "    \"sec_perf\",\n",
    "    \"Performance Requirements\", \n",
    "    \"Performance and scalability requirements.\"\n",
    ")\n",
    "\n",
    "doc_graph.add_paragraph(\n",
    "    \"sec_perf\",\n",
    "    \"para_response\",\n",
    "    \"System response time must be under 100ms for 95% of requests.\"\n",
    ")\n",
    "\n",
    "print(f\"Created document with {len(doc_graph.G.nodes())} nodes and {len(doc_graph.G.edges())} edges\")\n",
    "print(\"Document nodes:\", list(doc_graph.G.nodes()))"
   ]
  },
  {
   "cell_type": "markdown",
   "metadata": {},
   "source": [
    "## Gromov-Wasserstein Alignment"
   ]
  },
  {
   "cell_type": "code",
   "execution_count": null,
   "metadata": {},
   "outputs": [],
   "source": [
    "# Run GW alignment\n",
    "gw_result = gw_align(std_graph, doc_graph, reg=0.1, max_iter=50)\n",
    "\n",
    "print(\"\\n=== GW Alignment Results ===\")\n",
    "print(f\"Transport plan shape: {gw_result.transport_plan.shape}\")\n",
    "print(f\"Cost decomposition: {gw_result.cost_decomposition}\")\n",
    "print(f\"Stability bound ε: {gw_result.stability_bound:.4f}\")\n",
    "print(f\"Regularization λ: {gw_result.regularization}\")\n",
    "\n",
    "print(\"\\nTop matching pairs:\")\n",
    "for i, (std_idx, doc_idx, weight) in enumerate(gw_result.matching_pairs[:5]):\n",
    "    std_nodes = list(std_graph.G.nodes())\n",
    "    doc_nodes = list(doc_graph.G.nodes())\n",
    "    print(f\"{i+1}. {std_nodes[std_idx]} ↔ {doc_nodes[doc_idx]} (weight: {weight:.3f})\")"
   ]
  },
  {
   "cell_type": "markdown",
   "metadata": {},
   "source": [
    "## Sparse Alignment Comparison"
   ]
  },
  {
   "cell_type": "code",
   "execution_count": null,
   "metadata": {},
   "outputs": [],
   "source": [
    "# Run sparse alignment for comparison\n",
    "sparse_result = sparse_align(std_graph, doc_graph)\n",
    "\n",
    "print(\"\\n=== Sparse Alignment Results ===\")\n",
    "print(f\"Cost decomposition: {sparse_result.cost_decomposition}\")\n",
    "print(f\"Stability bound: {sparse_result.stability_bound} (no guarantees)\")\n",
    "\n",
    "print(\"\\nTop sparse matching pairs:\")\n",
    "for i, (std_idx, doc_idx, weight) in enumerate(sparse_result.matching_pairs[:5]):\n",
    "    if weight > 0:\n",
    "        std_nodes = list(std_graph.G.nodes())\n",
    "        doc_nodes = list(doc_graph.G.nodes())\n",
    "        print(f\"{i+1}. {std_nodes[std_idx]} ↔ {doc_nodes[doc_idx]} (weight: {weight:.3f})\")"
   ]
  },
  {
   "cell_type": "markdown",
   "metadata": {},
   "source": [
    "## Visualize Transport Plans"
   ]
  },
  {
   "cell_type": "code",
   "execution_count": null,
   "metadata": {},
   "outputs": [],
   "source": [
    "# Plot transport plans\n",
    "fig, (ax1, ax2) = plt.subplots(1, 2, figsize=(12, 5))\n",
    "\n",
    "# GW transport plan\n",
    "im1 = ax1.imshow(gw_result.transport_plan, cmap='Blues', aspect='auto')\n",
    "ax1.set_title(f'Entropic GW Transport Plan\\nλ={gw_result.regularization}, ε≤{gw_result.stability_bound:.3f}')\n",
    "ax1.set_xlabel('Document Nodes')\n",
    "ax1.set_ylabel('Standards Nodes')\n",
    "plt.colorbar(im1, ax=ax1)\n",
    "\n",
    "# Sparse transport plan\n",
    "im2 = ax2.imshow(sparse_result.transport_plan, cmap='Reds', aspect='auto')\n",
    "ax2.set_title('Sparse Bipartite Matching')\n",
    "ax2.set_xlabel('Document Nodes')\n",
    "ax2.set_ylabel('Standards Nodes')\n",
    "plt.colorbar(im2, ax=ax2)\n",
    "\n",
    "plt.tight_layout()\n",
    "plt.show()"
   ]
  },
  {
   "cell_type": "markdown",
   "metadata": {},
   "source": [
    "## Stability Analysis"
   ]
  },
  {
   "cell_type": "code",
   "execution_count": null,
   "metadata": {},
   "outputs": [],
   "source": [
    "# Test stability across different regularization values\n",
    "reg_values = [0.01, 0.05, 0.1, 0.2, 0.5]\n",
    "stability_bounds = []\n",
    "gw_costs = []\n",
    "\n",
    "for reg in reg_values:\n",
    "    result = gw_align(std_graph, doc_graph, reg=reg, max_iter=30)\n",
    "    stability_bounds.append(result.stability_bound)\n",
    "    gw_costs.append(result.cost_decomposition['gw_distance'])\n",
    "\n",
    "# Plot stability vs regularization\n",
    "fig, (ax1, ax2) = plt.subplots(1, 2, figsize=(12, 4))\n",
    "\n",
    "ax1.plot(reg_values, stability_bounds, 'bo-')\n",
    "ax1.set_xlabel('Regularization λ')\n",
    "ax1.set_ylabel('Stability Bound ε')\n",
    "ax1.set_title('Stability vs Regularization')\n",
    "ax1.grid(True)\n",
    "\n",
    "ax2.plot(reg_values, gw_costs, 'ro-')\n",
    "ax2.set_xlabel('Regularization λ')\n",
    "ax2.set_ylabel('GW Distance')\n",
    "ax2.set_title('GW Cost vs Regularization')\n",
    "ax2.grid(True)\n",
    "\n",
    "plt.tight_layout()\n",
    "plt.show()\n",
    "\n",
    "print(\"\\n=== Stability Analysis ===\")\n",
    "print(\"λ\\t\\tε\\t\\tGW Cost\")\n",
    "for reg, eps, cost in zip(reg_values, stability_bounds, gw_costs):\n",
    "    print(f\"{reg:.2f}\\t\\t{eps:.4f}\\t\\t{cost:.4f}\")"
   ]
  },
  {
   "cell_type": "markdown",
   "metadata": {},
   "source": [
    "## Conditions for Stable Matchings\n",
    "\n",
    "Based on the theoretical foundations:\n",
    "\n",
    "1. **Entropic Regularization**: λ > 0 ensures unique, stable transport plans\n",
    "2. **Stability Bound**: ε ≤ C √(λ log(max(n₁, n₂))) where C depends on graph geometry\n",
    "3. **Consistency**: Under document sampling, GW distances converge with rate O(n^(-1/2))\n",
    "4. **Fused Costs**: Combining structural + semantic costs improves alignment quality\n",
    "\n",
    "**Practical Guidelines**:\n",
    "- Use λ ∈ [0.05, 0.2] for good stability/accuracy tradeoff\n",
    "- Monitor stability bound ε in logs\n",
    "- Consider sparse fallback for very large graphs\n",
    "- Validate on synthetic data with known ground truth"
   ]
  }
 ],
 "metadata": {
  "kernelspec": {
   "display_name": "Python 3",
   "language": "python",
   "name": "python3"
  },
  "language_info": {
   "codemirror_mode": {
    "name": "ipython",
    "version": 3
   },
   "file_extension": ".py",
   "mimetype": "text/x-python",
   "name": "python",
   "nbconvert_exporter": "python",
   "pygments_lexer": "ipython3",
   "version": "3.8.0"
  }
 },
 "nbformat": 4,
 "nbformat_minor": 4
}
